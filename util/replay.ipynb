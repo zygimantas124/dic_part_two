{
 "cells": [
  {
   "cell_type": "code",
   "execution_count": 5,
   "id": "f8ca7bd5",
   "metadata": {},
   "outputs": [
    {
     "name": "stdout",
     "output_type": "stream",
     "text": [
      "pygame 2.6.1 (SDL 2.28.4, Python 3.10.16)\n",
      "Hello from the pygame community. https://www.pygame.org/contribute.html\n"
     ]
    }
   ],
   "source": [
    "import json\n",
    "import time\n",
    "import numpy as np\n",
    "import matplotlib.pyplot as plt\n",
    "import sys\n",
    "import os\n",
    "\n",
    "# Add the parent directory (which contains 'office') to sys.path\n",
    "parent_dir = os.path.abspath(os.path.join(os.getcwd(), \"..\"))\n",
    "if parent_dir not in sys.path:\n",
    "    sys.path.insert(0, parent_dir)\n",
    "\n",
    "from office.delivery_env import DeliveryRobotEnv\n"
   ]
  },
  {
   "cell_type": "code",
   "execution_count": null,
   "id": "29a259b2",
   "metadata": {},
   "outputs": [
    {
     "name": "stdout",
     "output_type": "stream",
     "text": [
      "pygame 2.6.1 (SDL 2.28.4, Python 3.10.16)\n",
      "Hello from the pygame community. https://www.pygame.org/contribute.html\n"
     ]
    },
    {
     "ename": "KeyboardInterrupt",
     "evalue": "",
     "output_type": "error",
     "traceback": [
      "\u001b[0;31m---------------------------------------------------------------------------\u001b[0m",
      "\u001b[0;31mKeyboardInterrupt\u001b[0m                         Traceback (most recent call last)",
      "Cell \u001b[0;32mIn[1], line 40\u001b[0m\n\u001b[1;32m     37\u001b[0m     env\u001b[38;5;241m.\u001b[39mclose()\n\u001b[1;32m     39\u001b[0m \u001b[38;5;66;03m# Example usage\u001b[39;00m\n\u001b[0;32m---> 40\u001b[0m \u001b[43mreplay_episode\u001b[49m\u001b[43m(\u001b[49m\u001b[38;5;124;43m\"\u001b[39;49m\u001b[38;5;124;43mlogs/episode_0.json\u001b[39;49m\u001b[38;5;124;43m\"\u001b[39;49m\u001b[43m,\u001b[49m\u001b[43m \u001b[49m\u001b[43mrender_delay\u001b[49m\u001b[38;5;241;43m=\u001b[39;49m\u001b[38;5;241;43m0.05\u001b[39;49m\u001b[43m)\u001b[49m\n",
      "Cell \u001b[0;32mIn[1], line 32\u001b[0m, in \u001b[0;36mreplay_episode\u001b[0;34m(json_path, render_delay)\u001b[0m\n\u001b[1;32m     29\u001b[0m env\u001b[38;5;241m.\u001b[39mrender()\n\u001b[1;32m     31\u001b[0m \u001b[38;5;66;03m# Delay between frames for visibility\u001b[39;00m\n\u001b[0;32m---> 32\u001b[0m \u001b[43mtime\u001b[49m\u001b[38;5;241;43m.\u001b[39;49m\u001b[43msleep\u001b[49m\u001b[43m(\u001b[49m\u001b[43mrender_delay\u001b[49m\u001b[43m)\u001b[49m\n\u001b[1;32m     34\u001b[0m \u001b[38;5;28;01mif\u001b[39;00m terminated \u001b[38;5;129;01mor\u001b[39;00m truncated:\n\u001b[1;32m     35\u001b[0m     \u001b[38;5;28;01mbreak\u001b[39;00m\n",
      "\u001b[0;31mKeyboardInterrupt\u001b[0m: "
     ]
    }
   ],
   "source": [
    "\n",
    "\n",
    "\n",
    "def replay_episode(json_path, render_delay=0.1):\n",
    "    # Load the saved trajectory\n",
    "    with open(json_path, 'r') as f:\n",
    "        transitions = json.load(f)\n",
    "\n",
    "    # Initialize the environment in human render mode\n",
    "    env = DeliveryRobotEnv(\n",
    "        config=\"open_office_simple\",\n",
    "        show_walls=True,\n",
    "        show_obstacles=True,\n",
    "        show_carpets=False,\n",
    "        render_mode=\"human\"\n",
    "    )\n",
    "\n",
    "    obs, _ = env.reset()\n",
    "\n",
    "    for step in transitions:\n",
    "        action = step[\"action\"]\n",
    "\n",
    "        # Take action in environment\n",
    "        obs, reward, terminated, truncated, _ = env.step(action)\n",
    "\n",
    "        # Render frame\n",
    "        env.render()\n",
    "\n",
    "        # Delay between frames for visibility\n",
    "        time.sleep(render_delay)\n",
    "\n",
    "        if terminated or truncated:\n",
    "            break\n",
    "\n",
    "    env.close()\n",
    "\n",
    "# Example usage\n",
    "replay_episode(\"logs/episode_0.json\", render_delay=0.05)\n"
   ]
  },
  {
   "cell_type": "code",
   "execution_count": null,
   "id": "b3d74215",
   "metadata": {},
   "outputs": [],
   "source": [
    "import json\n",
    "import numpy as np\n",
    "import matplotlib.pyplot as plt\n",
    "import matplotlib.patches as patches\n",
    "import ipywidgets as widgets\n",
    "from IPython.display import display\n",
    "\n",
    "from office.delivery_env import DeliveryRobotEnv\n",
    "\n",
    "\n",
    "def draw_trajectory(json_path, use_next_state=False):\n",
    "    # Load transitions\n",
    "    with open(json_path, 'r') as f:\n",
    "        transitions = json.load(f)\n",
    "\n",
    "    key = \"next_state\" if use_next_state else \"state\"\n",
    "    positions = np.array([step[key][:2] for step in transitions])\n",
    "    positions[:, 0] *= 800\n",
    "    positions[:, 1] *= 600\n",
    "    num_steps = len(positions)\n",
    "    alphas = np.linspace(0.2, 1.0, num_steps)\n",
    "\n",
    "    # Load env (for static features)\n",
    "    env = DeliveryRobotEnv(\n",
    "        config=\"open_office_simple\",\n",
    "        show_walls=True,\n",
    "        show_obstacles=True,\n",
    "        show_carpets=False,\n",
    "        render_mode=\"human\"\n",
    "    )\n",
    "\n",
    "    # Setup plot\n",
    "    fig, ax = plt.subplots(figsize=(8, 6))\n",
    "    ax.set_facecolor((55/255, 55/255, 55/255))\n",
    "    ax.set_xlim(0, 800)\n",
    "    ax.set_ylim(0, 600)\n",
    "    ax.invert_yaxis()\n",
    "    ax.set_aspect('equal')\n",
    "    ax.set_title(\"Trajectory (Interactive Slider)\")\n",
    "\n",
    "    # --- Draw static features once ---\n",
    "    for wall in env.walls:\n",
    "        ax.add_patch(patches.Rectangle((wall[0], wall[1]), wall[2], wall[3], facecolor='white'))\n",
    "\n",
    "    for obs in env.obstacles:\n",
    "        ax.add_patch(patches.Circle((obs[0], obs[1]), obs[2],\n",
    "                                    facecolor=(1, 0.6, 0.6), edgecolor='red', linewidth=2))\n",
    "\n",
    "    for i, table in enumerate(env.tables):\n",
    "        tx, ty, tw, th = table\n",
    "        is_delivered = i in env.delivered_tables\n",
    "        color = 'green' if is_delivered else 'orange'\n",
    "        ax.add_patch(patches.Rectangle((tx, ty), tw, th, facecolor=color, edgecolor='black', linewidth=2))\n",
    "        if not is_delivered:\n",
    "            margin = env.robot_radius * 4\n",
    "            ax.add_patch(patches.Rectangle(\n",
    "                (tx - margin, ty - margin), tw + 2 * margin, th + 2 * margin,\n",
    "                facecolor=(0, 1, 0, 0.25), linewidth=0\n",
    "            ))\n",
    "\n",
    "    # --- Pre-allocate trajectory segments ---\n",
    "    lines = []\n",
    "    for i in range(1, num_steps):\n",
    "        line, = ax.plot([], [], color='blue', alpha=alphas[i], linewidth=2)\n",
    "        lines.append(line)\n",
    "\n",
    "    # --- Robot dot ---\n",
    "    robot_dot = patches.Circle((positions[0][0], positions[0][1]), radius=6, color=(0, 100/255, 1))\n",
    "    ax.add_patch(robot_dot)\n",
    "\n",
    "    # --- Slider ---\n",
    "    slider = widgets.IntSlider(\n",
    "        value=num_steps - 1, min=1, max=num_steps - 1, step=1,\n",
    "        description=\"Step\", continuous_update=True\n",
    "    )\n",
    "\n",
    "    def update(step):\n",
    "        # Update lines\n",
    "        for i, line in enumerate(lines):\n",
    "            if i < step:\n",
    "                x_vals = positions[i:i+2, 0]\n",
    "                y_vals = positions[i:i+2, 1]\n",
    "                line.set_data(x_vals, y_vals)\n",
    "            else:\n",
    "                line.set_data([], [])\n",
    "\n",
    "        # Update robot dot\n",
    "        robot_dot.center = (positions[step][0], positions[step][1])\n",
    "        fig.canvas.draw_idle()\n",
    "\n",
    "    slider.observe(lambda change: update(change['new']), names='value')\n",
    "\n",
    "    # Initial render\n",
    "    display(slider)\n",
    "    update(num_steps - 1)\n",
    "    plt.show()\n",
    "\n",
    "    env.close()\n"
   ]
  },
  {
   "cell_type": "code",
   "execution_count": null,
   "id": "0d4a1caf",
   "metadata": {},
   "outputs": [
    {
     "data": {
      "application/vnd.jupyter.widget-view+json": {
       "model_id": "bd1a6de5224549dd8afe9b30dece666e",
       "version_major": 2,
       "version_minor": 0
      },
      "text/plain": [
       "IntSlider(value=1816, continuous_update=False, description='Step:', max=1816, min=1)"
      ]
     },
     "metadata": {},
     "output_type": "display_data"
    },
    {
     "data": {
      "application/vnd.jupyter.widget-view+json": {
       "model_id": "6e6f701fa9b2408e9e679f43c41a4bf5",
       "version_major": 2,
       "version_minor": 0
      },
      "text/plain": [
       "Output()"
      ]
     },
     "metadata": {},
     "output_type": "display_data"
    }
   ],
   "source": [
    "draw_trajectory(\"../logs/episode_0.json\")\n"
   ]
  },
  {
   "cell_type": "code",
   "execution_count": null,
   "id": "386e771d",
   "metadata": {},
   "outputs": [],
   "source": []
  }
 ],
 "metadata": {
  "kernelspec": {
   "display_name": "torch118",
   "language": "python",
   "name": "python3"
  },
  "language_info": {
   "codemirror_mode": {
    "name": "ipython",
    "version": 3
   },
   "file_extension": ".py",
   "mimetype": "text/x-python",
   "name": "python",
   "nbconvert_exporter": "python",
   "pygments_lexer": "ipython3",
   "version": "3.10.16"
  }
 },
 "nbformat": 4,
 "nbformat_minor": 5
}
