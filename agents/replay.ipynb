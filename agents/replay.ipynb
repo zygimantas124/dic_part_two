{
 "cells": [
  {
   "cell_type": "code",
   "execution_count": 1,
   "id": "29a259b2",
   "metadata": {},
   "outputs": [
    {
     "name": "stdout",
     "output_type": "stream",
     "text": [
      "pygame 2.6.1 (SDL 2.28.4, Python 3.10.16)\n",
      "Hello from the pygame community. https://www.pygame.org/contribute.html\n"
     ]
    },
    {
     "ename": "KeyboardInterrupt",
     "evalue": "",
     "output_type": "error",
     "traceback": [
      "\u001b[0;31m---------------------------------------------------------------------------\u001b[0m",
      "\u001b[0;31mKeyboardInterrupt\u001b[0m                         Traceback (most recent call last)",
      "Cell \u001b[0;32mIn[1], line 40\u001b[0m\n\u001b[1;32m     37\u001b[0m     env\u001b[38;5;241m.\u001b[39mclose()\n\u001b[1;32m     39\u001b[0m \u001b[38;5;66;03m# Example usage\u001b[39;00m\n\u001b[0;32m---> 40\u001b[0m \u001b[43mreplay_episode\u001b[49m\u001b[43m(\u001b[49m\u001b[38;5;124;43m\"\u001b[39;49m\u001b[38;5;124;43mlogs/episode_0.json\u001b[39;49m\u001b[38;5;124;43m\"\u001b[39;49m\u001b[43m,\u001b[49m\u001b[43m \u001b[49m\u001b[43mrender_delay\u001b[49m\u001b[38;5;241;43m=\u001b[39;49m\u001b[38;5;241;43m0.05\u001b[39;49m\u001b[43m)\u001b[49m\n",
      "Cell \u001b[0;32mIn[1], line 32\u001b[0m, in \u001b[0;36mreplay_episode\u001b[0;34m(json_path, render_delay)\u001b[0m\n\u001b[1;32m     29\u001b[0m env\u001b[38;5;241m.\u001b[39mrender()\n\u001b[1;32m     31\u001b[0m \u001b[38;5;66;03m# Delay between frames for visibility\u001b[39;00m\n\u001b[0;32m---> 32\u001b[0m \u001b[43mtime\u001b[49m\u001b[38;5;241;43m.\u001b[39;49m\u001b[43msleep\u001b[49m\u001b[43m(\u001b[49m\u001b[43mrender_delay\u001b[49m\u001b[43m)\u001b[49m\n\u001b[1;32m     34\u001b[0m \u001b[38;5;28;01mif\u001b[39;00m terminated \u001b[38;5;129;01mor\u001b[39;00m truncated:\n\u001b[1;32m     35\u001b[0m     \u001b[38;5;28;01mbreak\u001b[39;00m\n",
      "\u001b[0;31mKeyboardInterrupt\u001b[0m: "
     ]
    }
   ],
   "source": [
    "import json\n",
    "import time\n",
    "import numpy as np\n",
    "from office.delivery_env import DeliveryRobotEnv\n",
    "\n",
    "def replay_episode(json_path, render_delay=0.1):\n",
    "    # Load the saved trajectory\n",
    "    with open(json_path, 'r') as f:\n",
    "        transitions = json.load(f)\n",
    "\n",
    "    # Initialize the environment in human render mode\n",
    "    env = DeliveryRobotEnv(\n",
    "        config=\"open_office_simple\",\n",
    "        show_walls=True,\n",
    "        show_obstacles=True,\n",
    "        show_carpets=False,\n",
    "        render_mode=\"human\"\n",
    "    )\n",
    "\n",
    "    obs, _ = env.reset()\n",
    "\n",
    "    for step in transitions:\n",
    "        action = step[\"action\"]\n",
    "\n",
    "        # Take action in environment\n",
    "        obs, reward, terminated, truncated, _ = env.step(action)\n",
    "\n",
    "        # Render frame\n",
    "        env.render()\n",
    "\n",
    "        # Delay between frames for visibility\n",
    "        time.sleep(render_delay)\n",
    "\n",
    "        if terminated or truncated:\n",
    "            break\n",
    "\n",
    "    env.close()\n",
    "\n",
    "# Example usage\n",
    "replay_episode(\"logs/episode_0.json\", render_delay=0.05)\n"
   ]
  },
  {
   "cell_type": "code",
   "execution_count": null,
   "id": "41b4915d",
   "metadata": {},
   "outputs": [],
   "source": []
  }
 ],
 "metadata": {
  "kernelspec": {
   "display_name": "torch118",
   "language": "python",
   "name": "python3"
  },
  "language_info": {
   "codemirror_mode": {
    "name": "ipython",
    "version": 3
   },
   "file_extension": ".py",
   "mimetype": "text/x-python",
   "name": "python",
   "nbconvert_exporter": "python",
   "pygments_lexer": "ipython3",
   "version": "3.10.16"
  }
 },
 "nbformat": 4,
 "nbformat_minor": 5
}
